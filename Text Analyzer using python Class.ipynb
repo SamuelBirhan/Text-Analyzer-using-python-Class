{
 "cells": [
  {
   "cell_type": "code",
   "execution_count": 1,
   "id": "3b09e192",
   "metadata": {},
   "outputs": [
    {
     "data": {
      "text/plain": [
       "'Lorem ipsum dolor! diam amet, consetetur Lorem magna. sed diam nonumy eirmod tempor. diam et labore? et diam magna. et diam amet.'"
      ]
     },
     "execution_count": 1,
     "metadata": {},
     "output_type": "execute_result"
    }
   ],
   "source": [
    "givenstring=\"Lorem ipsum dolor! diam amet, consetetur Lorem magna. \\\n",
    "sed diam nonumy eirmod tempor. diam et labore? et diam magna. et diam amet.\"\n",
    "givenstring"
   ]
  },
  {
   "cell_type": "code",
   "execution_count": 2,
   "id": "cb46d019",
   "metadata": {},
   "outputs": [],
   "source": [
    "class TextAnalizer(object):\n",
    "    # Implement a code to Format the text in Lowercase\n",
    "    def __init__ (self, text):\n",
    "        # remove punctuation\n",
    "        formattedText = text.replace('.','').replace('!','').replace('?','').replace(',','')\n",
    "        # make all the words lower case\n",
    "        formattedText = formattedText.lower()\n",
    "        \n",
    "        self.fmtText = formattedText\n",
    "    \n",
    "    # Iplement a code to count the frequancy of all unique word\n",
    "    \n",
    "    def countFreq(self):\n",
    "        \n",
    "        # split the text in to a separate word\n",
    "        wordList = fmtText.split(' ')\n",
    "        \n",
    "        # Creat a dictionary\n",
    "        freqMap = {}\n",
    "        for word in set(wordList): # Use set to remove depulicates\n",
    "            ferqMap[word] = wordList.count(word)\n",
    "        \n",
    "        return freqMap\n",
    "    \n",
    "    # Implment a code to count the freq of a specific word\n",
    "    def freqOf(self, word):\n",
    "        \n",
    "        #ger frequancy map\n",
    "        freqDict = self.freqAall()\n",
    "        \n",
    "        if word in freqDict:\n",
    "            return freqDict[word]\n",
    "        else:\n",
    "            return 0\n",
    "        \n",
    "        \n",
    "            \n",
    "        "
   ]
  },
  {
   "cell_type": "code",
   "execution_count": 3,
   "id": "216e5de1",
   "metadata": {},
   "outputs": [],
   "source": [
    "# Create an instance of TextAnalyzer Class.\n",
    "analysed = TextAnalizer(givenstring)"
   ]
  },
  {
   "cell_type": "code",
   "execution_count": 4,
   "id": "c4c53832",
   "metadata": {},
   "outputs": [
    {
     "name": "stdout",
     "output_type": "stream",
     "text": [
      "formated text: lorem ipsum dolor diam amet consetetur lorem magna sed diam nonumy eirmod tempor diam et labore et diam magna et diam amet\n"
     ]
    }
   ],
   "source": [
    "\n",
    "# Call the function that converts the text to lower case\n",
    "print(f'formated text: {analysed.fmtText}')"
   ]
  },
  {
   "cell_type": "code",
   "execution_count": 5,
   "id": "25d9aa63",
   "metadata": {},
   "outputs": [
    {
     "ename": "NameError",
     "evalue": "name 'fmtText' is not defined",
     "output_type": "error",
     "traceback": [
      "\u001b[1;31m---------------------------------------------------------------------------\u001b[0m",
      "\u001b[1;31mNameError\u001b[0m                                 Traceback (most recent call last)",
      "Cell \u001b[1;32mIn[5], line 2\u001b[0m\n\u001b[0;32m      1\u001b[0m \u001b[38;5;66;03m# Call the function that counts the frequancy of all unique words\u001b[39;00m\n\u001b[1;32m----> 2\u001b[0m freqMap \u001b[38;5;241m=\u001b[39m \u001b[43manalysed\u001b[49m\u001b[38;5;241;43m.\u001b[39;49m\u001b[43mcountFreq\u001b[49m\u001b[43m(\u001b[49m\u001b[43m)\u001b[49m\n\u001b[0;32m      3\u001b[0m \u001b[38;5;28mprint\u001b[39m(freqMap)\n",
      "Cell \u001b[1;32mIn[2], line 16\u001b[0m, in \u001b[0;36mTextAnalizer.countFreq\u001b[1;34m(self)\u001b[0m\n\u001b[0;32m     13\u001b[0m \u001b[38;5;28;01mdef\u001b[39;00m \u001b[38;5;21mcountFreq\u001b[39m(\u001b[38;5;28mself\u001b[39m):\n\u001b[0;32m     14\u001b[0m     \n\u001b[0;32m     15\u001b[0m     \u001b[38;5;66;03m# split the text in to a separate word\u001b[39;00m\n\u001b[1;32m---> 16\u001b[0m     wordList \u001b[38;5;241m=\u001b[39m \u001b[43mfmtText\u001b[49m\u001b[38;5;241m.\u001b[39msplit(\u001b[38;5;124m'\u001b[39m\u001b[38;5;124m \u001b[39m\u001b[38;5;124m'\u001b[39m)\n\u001b[0;32m     18\u001b[0m     \u001b[38;5;66;03m# Creat a dictionary\u001b[39;00m\n\u001b[0;32m     19\u001b[0m     freqMap \u001b[38;5;241m=\u001b[39m {}\n",
      "\u001b[1;31mNameError\u001b[0m: name 'fmtText' is not defined"
     ]
    }
   ],
   "source": [
    "# Call the function that counts the frequancy of all unique words\n",
    "freqMap = analysed.countFreq()\n",
    "print(freqMap)\n",
    "\n",
    "#call the function to count the frequency of a specific word\n",
    "word = \"lorem\"\n",
    "frequency = analyzed.freqOf(word)\n",
    "print(\"The word\",word,\"appears\",frequency,\"times.\")"
   ]
  },
  {
   "cell_type": "code",
   "execution_count": null,
   "id": "aa413e53",
   "metadata": {},
   "outputs": [],
   "source": []
  },
  {
   "cell_type": "code",
   "execution_count": null,
   "id": "f393eef1",
   "metadata": {},
   "outputs": [],
   "source": []
  }
 ],
 "metadata": {
  "kernelspec": {
   "display_name": "Python 3 (ipykernel)",
   "language": "python",
   "name": "python3"
  },
  "language_info": {
   "codemirror_mode": {
    "name": "ipython",
    "version": 3
   },
   "file_extension": ".py",
   "mimetype": "text/x-python",
   "name": "python",
   "nbconvert_exporter": "python",
   "pygments_lexer": "ipython3",
   "version": "3.9.0"
  }
 },
 "nbformat": 4,
 "nbformat_minor": 5
}
